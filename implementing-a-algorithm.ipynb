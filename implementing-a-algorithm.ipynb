{
 "cells": [
  {
   "cell_type": "markdown",
   "id": "f3bf2262",
   "metadata": {
    "papermill": {
     "duration": 0.002336,
     "end_time": "2025-04-11T21:00:34.500546",
     "exception": false,
     "start_time": "2025-04-11T21:00:34.498210",
     "status": "completed"
    },
    "tags": []
   },
   "source": [
    "# A* algorithm\n",
    "\n",
    "Given a 2D grid of size m by n with grid[i][j] representing the cost of moving into the grid. Find the minimum cost of going from [0,0] to [m-1,n-1].\n",
    "\n",
    "If the grid[i][j] = -1, you cannot pass through that cell.\n",
    "\n",
    "If it is impossible to go from [0,0] to [m-1,n-1], return -1."
   ]
  },
  {
   "cell_type": "code",
   "execution_count": 1,
   "id": "f735a7b5",
   "metadata": {
    "_cell_guid": "b1076dfc-b9ad-4769-8c92-a6c4dae69d19",
    "_uuid": "8f2839f25d086af736a60e9eeb907d3b93b6e0e5",
    "execution": {
     "iopub.execute_input": "2025-04-11T21:00:34.506234Z",
     "iopub.status.busy": "2025-04-11T21:00:34.505727Z",
     "iopub.status.idle": "2025-04-11T21:00:34.519987Z",
     "shell.execute_reply": "2025-04-11T21:00:34.518973Z"
    },
    "papermill": {
     "duration": 0.019365,
     "end_time": "2025-04-11T21:00:34.522065",
     "exception": false,
     "start_time": "2025-04-11T21:00:34.502700",
     "status": "completed"
    },
    "tags": []
   },
   "outputs": [],
   "source": [
    "import heapq\n",
    "\n",
    "def min_cost(grid):\n",
    "    m = len(grid)\n",
    "    n = len(grid[0])\n",
    "    if grid[0][0] == -1:\n",
    "        return -1\n",
    "    if grid[m-1][n-1] == -1:\n",
    "        return -1\n",
    "    # First a Naive approach\n",
    "    visited =[(grid[0][0]+h(0,0,m-1,n-1), 0,0)]\n",
    "    distance = {(0,0) : grid[0][0]}\n",
    "    directions = [[1,0], [0,1],[-1,0],[0,-1]]\n",
    "    while visited:\n",
    "        f, i ,j = heapq.heappop(visited)\n",
    "        if i==m-1 and j == n-1:\n",
    "            return distance[(i,j)]\n",
    "        for dx, dy in directions:\n",
    "            i_p = i+dx\n",
    "            j_p = j+dy\n",
    "            if i_p>=0 and i_p<m and j_p >=0 and j_p<n:\n",
    "                if grid[i_p][j_p] !=-1:\n",
    "                    new_distance = distance[(i,j)] + grid[i_p][j_p]\n",
    "                    if (i_p,j_p) not in distance:\n",
    "                        heapq.heappush(visited, (new_distance + h(i_p,j_p,m-1,n-1), i_p, j_p))\n",
    "                        distance[(i_p,j_p)] = distance[(i,j)] + grid[i_p][j_p]\n",
    "                    if new_distance < distance[(i_p, j_p)]:\n",
    "                        heapq.heappush(visited, (new_distance+ h(i_p,j_p,m-1,n-1), i_p, j_p))\n",
    "                        distance[(i_p, j_p)] = new_distance\n",
    "    return -1 \n",
    "def h (x1, y1, x2, y2):\n",
    "    return abs(x1-x2)+abs(y1-y2)\n",
    "    "
   ]
  },
  {
   "cell_type": "code",
   "execution_count": 2,
   "id": "2aeb3dd3",
   "metadata": {
    "execution": {
     "iopub.execute_input": "2025-04-11T21:00:34.529326Z",
     "iopub.status.busy": "2025-04-11T21:00:34.528409Z",
     "iopub.status.idle": "2025-04-11T21:00:34.537408Z",
     "shell.execute_reply": "2025-04-11T21:00:34.536166Z"
    },
    "papermill": {
     "duration": 0.01447,
     "end_time": "2025-04-11T21:00:34.539346",
     "exception": false,
     "start_time": "2025-04-11T21:00:34.524876",
     "status": "completed"
    },
    "tags": []
   },
   "outputs": [
    {
     "data": {
      "text/plain": [
       "7"
      ]
     },
     "execution_count": 2,
     "metadata": {},
     "output_type": "execute_result"
    }
   ],
   "source": [
    "grid = [\n",
    "    [1, 1, 1, 1],\n",
    "    [1, -1, -1, 1],\n",
    "    [1, 1, 1, 1],\n",
    "    [1, -1, 1, 1]\n",
    "]\n",
    "\n",
    "min_cost(grid)"
   ]
  }
 ],
 "metadata": {
  "kaggle": {
   "accelerator": "none",
   "dataSources": [],
   "dockerImageVersionId": 31012,
   "isGpuEnabled": false,
   "isInternetEnabled": true,
   "language": "python",
   "sourceType": "notebook"
  },
  "kernelspec": {
   "display_name": "Python 3",
   "language": "python",
   "name": "python3"
  },
  "language_info": {
   "codemirror_mode": {
    "name": "ipython",
    "version": 3
   },
   "file_extension": ".py",
   "mimetype": "text/x-python",
   "name": "python",
   "nbconvert_exporter": "python",
   "pygments_lexer": "ipython3",
   "version": "3.11.11"
  },
  "papermill": {
   "default_parameters": {},
   "duration": 6.022674,
   "end_time": "2025-04-11T21:00:35.163929",
   "environment_variables": {},
   "exception": null,
   "input_path": "__notebook__.ipynb",
   "output_path": "__notebook__.ipynb",
   "parameters": {},
   "start_time": "2025-04-11T21:00:29.141255",
   "version": "2.6.0"
  }
 },
 "nbformat": 4,
 "nbformat_minor": 5
}
