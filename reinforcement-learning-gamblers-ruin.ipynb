{
 "cells": [
  {
   "cell_type": "code",
   "execution_count": 1,
   "id": "7a3aaf85",
   "metadata": {
    "_cell_guid": "b1076dfc-b9ad-4769-8c92-a6c4dae69d19",
    "_uuid": "8f2839f25d086af736a60e9eeb907d3b93b6e0e5",
    "execution": {
     "iopub.execute_input": "2025-03-12T17:25:11.031189Z",
     "iopub.status.busy": "2025-03-12T17:25:11.030683Z",
     "iopub.status.idle": "2025-03-12T17:25:12.175871Z",
     "shell.execute_reply": "2025-03-12T17:25:12.174572Z"
    },
    "papermill": {
     "duration": 1.154972,
     "end_time": "2025-03-12T17:25:12.178691",
     "exception": false,
     "start_time": "2025-03-12T17:25:11.023719",
     "status": "completed"
    },
    "tags": []
   },
   "outputs": [],
   "source": [
    "# This Python 3 environment comes with many helpful analytics libraries installed\n",
    "# It is defined by the kaggle/python Docker image: https://github.com/kaggle/docker-python\n",
    "# For example, here's several helpful packages to load\n",
    "\n",
    "import numpy as np # linear algebra\n",
    "import pandas as pd # data processing, CSV file I/O (e.g. pd.read_csv)\n",
    "\n",
    "# Input data files are available in the read-only \"../input/\" directory\n",
    "# For example, running this (by clicking run or pressing Shift+Enter) will list all files under the input directory\n",
    "\n",
    "import os\n",
    "for dirname, _, filenames in os.walk('/kaggle/input'):\n",
    "    for filename in filenames:\n",
    "        print(os.path.join(dirname, filename))\n",
    "\n",
    "# You can write up to 20GB to the current directory (/kaggle/working/) that gets preserved as output when you create a version using \"Save & Run All\" \n",
    "# You can also write temporary files to /kaggle/temp/, but they won't be saved outside of the current session"
   ]
  },
  {
   "cell_type": "code",
   "execution_count": 2,
   "id": "6e187bee",
   "metadata": {
    "execution": {
     "iopub.execute_input": "2025-03-12T17:25:12.190114Z",
     "iopub.status.busy": "2025-03-12T17:25:12.189504Z",
     "iopub.status.idle": "2025-03-12T17:25:12.194774Z",
     "shell.execute_reply": "2025-03-12T17:25:12.193400Z"
    },
    "papermill": {
     "duration": 0.013139,
     "end_time": "2025-03-12T17:25:12.196982",
     "exception": false,
     "start_time": "2025-03-12T17:25:12.183843",
     "status": "completed"
    },
    "tags": []
   },
   "outputs": [],
   "source": [
    "import random\n",
    "import matplotlib.pyplot as plt"
   ]
  },
  {
   "cell_type": "markdown",
   "id": "09c2852f",
   "metadata": {
    "papermill": {
     "duration": 0.003954,
     "end_time": "2025-03-12T17:25:12.205582",
     "exception": false,
     "start_time": "2025-03-12T17:25:12.201628",
     "status": "completed"
    },
    "tags": []
   },
   "source": [
    "## Gambler's Ruin as described in the book\n",
    "\n",
    "In the game, a gambler puts money on stake till he is bankrupt, or wins has $100. The state space is {1,2,..., 99} and to each state, the action space is {0,1,...,min(s,100-s)}\n",
    "\n"
   ]
  },
  {
   "cell_type": "markdown",
   "id": "479bf492",
   "metadata": {
    "papermill": {
     "duration": 0.003886,
     "end_time": "2025-03-12T17:25:12.213642",
     "exception": false,
     "start_time": "2025-03-12T17:25:12.209756",
     "status": "completed"
    },
    "tags": []
   },
   "source": [
    "# Gambler's Ruin\n",
    "\n",
    "In this file, I create a Reinforced Learning algorithm that finds the best policy for playing the Gambler's Ruin simulation game. \n",
    "\n",
    "At the end, I create a Gambler's Ruin Simulation game, and show that the learned policy performs well. "
   ]
  },
  {
   "cell_type": "code",
   "execution_count": 3,
   "id": "ac76d16d",
   "metadata": {
    "execution": {
     "iopub.execute_input": "2025-03-12T17:25:12.223706Z",
     "iopub.status.busy": "2025-03-12T17:25:12.223280Z",
     "iopub.status.idle": "2025-03-12T17:25:12.379310Z",
     "shell.execute_reply": "2025-03-12T17:25:12.378157Z"
    },
    "papermill": {
     "duration": 0.16331,
     "end_time": "2025-03-12T17:25:12.381263",
     "exception": false,
     "start_time": "2025-03-12T17:25:12.217953",
     "status": "completed"
    },
    "tags": []
   },
   "outputs": [],
   "source": [
    "win_prob = 0.4\n",
    "threshold = 0.001\n",
    "\n",
    "old_value = [0 for i in range(101)]\n",
    "old_value[0] = 0\n",
    "old_value[100] = 0\n",
    "\n",
    "def reward(s):\n",
    "    if s == 100:\n",
    "        return 1\n",
    "    else:\n",
    "        return 0\n",
    "\n",
    "new_value = [0 for i in range(101)]\n",
    "for sweeps in range(100):\n",
    "    for s in range(1,100):\n",
    "        new_value[s] = max([win_prob*(old_value[s+a]+reward(s+a)) + \n",
    "                        (1-win_prob)*(old_value[s-a] + reward(s-a)) \n",
    "                        for a in range(1,min(s,100-s)+1)])       \n",
    "    old_value = new_value\n",
    "    \n"
   ]
  },
  {
   "cell_type": "code",
   "execution_count": 4,
   "id": "53271422",
   "metadata": {
    "execution": {
     "iopub.execute_input": "2025-03-12T17:25:12.391449Z",
     "iopub.status.busy": "2025-03-12T17:25:12.391072Z",
     "iopub.status.idle": "2025-03-12T17:25:12.685309Z",
     "shell.execute_reply": "2025-03-12T17:25:12.684132Z"
    },
    "papermill": {
     "duration": 0.301226,
     "end_time": "2025-03-12T17:25:12.687058",
     "exception": false,
     "start_time": "2025-03-12T17:25:12.385832",
     "status": "completed"
    },
    "tags": []
   },
   "outputs": [
    {
     "data": {
      "image/png": "[encoded data removed]",
      "text/plain": [
       "<Figure size 640x480 with 1 Axes>"
      ]
     },
     "metadata": {},
     "output_type": "display_data"
    }
   ],
   "source": [
    "fig, ax = plt.subplots()\n",
    "ax.plot(new_value[0:100]);"
   ]
  },
  {
   "cell_type": "code",
   "execution_count": 5,
   "id": "56d1ec11",
   "metadata": {
    "execution": {
     "iopub.execute_input": "2025-03-12T17:25:12.698998Z",
     "iopub.status.busy": "2025-03-12T17:25:12.698614Z",
     "iopub.status.idle": "2025-03-12T17:25:12.707167Z",
     "shell.execute_reply": "2025-03-12T17:25:12.706153Z"
    },
    "papermill": {
     "duration": 0.01703,
     "end_time": "2025-03-12T17:25:12.709046",
     "exception": false,
     "start_time": "2025-03-12T17:25:12.692016",
     "status": "completed"
    },
    "tags": []
   },
   "outputs": [],
   "source": [
    "policy = [0 for i in range(99)]\n",
    "for i in range(99):\n",
    "    s = i+1\n",
    "    policy[i] = np.argmax([win_prob*(new_value[s+a]+reward(s+a)) + \n",
    "                        (1-win_prob)*(new_value[s-a] + reward(s-a))\n",
    "                           for a in range(1,min(s, 100-s)+1)])+1\n"
   ]
  },
  {
   "cell_type": "code",
   "execution_count": 6,
   "id": "65163df8",
   "metadata": {
    "execution": {
     "iopub.execute_input": "2025-03-12T17:25:12.720123Z",
     "iopub.status.busy": "2025-03-12T17:25:12.719674Z",
     "iopub.status.idle": "2025-03-12T17:25:12.902625Z",
     "shell.execute_reply": "2025-03-12T17:25:12.901287Z"
    },
    "papermill": {
     "duration": 0.19058,
     "end_time": "2025-03-12T17:25:12.904589",
     "exception": false,
     "start_time": "2025-03-12T17:25:12.714009",
     "status": "completed"
    },
    "tags": []
   },
   "outputs": [
    {
     "data": {
      "image/png": "[encoded data removed]",
      "text/plain": [
       "<Figure size 640x480 with 1 Axes>"
      ]
     },
     "metadata": {},
     "output_type": "display_data"
    }
   ],
   "source": [
    "fig, ax = plt.subplots()\n",
    "ax.plot(policy);"
   ]
  },
  {
   "cell_type": "code",
   "execution_count": 7,
   "id": "d3a80b74",
   "metadata": {
    "execution": {
     "iopub.execute_input": "2025-03-12T17:25:12.917983Z",
     "iopub.status.busy": "2025-03-12T17:25:12.917586Z",
     "iopub.status.idle": "2025-03-12T17:25:12.923736Z",
     "shell.execute_reply": "2025-03-12T17:25:12.922460Z"
    },
    "papermill": {
     "duration": 0.015447,
     "end_time": "2025-03-12T17:25:12.925789",
     "exception": false,
     "start_time": "2025-03-12T17:25:12.910342",
     "status": "completed"
    },
    "tags": []
   },
   "outputs": [],
   "source": [
    "class Gambler_simulation:\n",
    "    def __init__(self, initial_money, win_prob):\n",
    "        self.initial_money = initial_money\n",
    "        self.win_prob = win_prob\n",
    "        self.game_state = True\n",
    "    def bet(self, a):\n",
    "        outcome =  random.choices([self.initial_money+a, self.initial_money-a],\n",
    "                              [self.win_prob, 1-self.win_prob])[0]\n",
    "        self.initial_money = outcome\n",
    "        if outcome <=0:\n",
    "            self.game_state = False\n",
    "            return 0\n",
    "        return outcome\n",
    "\n",
    "\n",
    "\n"
   ]
  },
  {
   "cell_type": "markdown",
   "id": "8123f846",
   "metadata": {
    "papermill": {
     "duration": 0.005138,
     "end_time": "2025-03-12T17:25:12.936623",
     "exception": false,
     "start_time": "2025-03-12T17:25:12.931485",
     "status": "completed"
    },
    "tags": []
   },
   "source": [
    "# Performance of Learned Policy"
   ]
  },
  {
   "cell_type": "code",
   "execution_count": 8,
   "id": "f58697ec",
   "metadata": {
    "execution": {
     "iopub.execute_input": "2025-03-12T17:25:12.949231Z",
     "iopub.status.busy": "2025-03-12T17:25:12.948846Z",
     "iopub.status.idle": "2025-03-12T17:25:21.328964Z",
     "shell.execute_reply": "2025-03-12T17:25:21.327535Z"
    },
    "papermill": {
     "duration": 8.389228,
     "end_time": "2025-03-12T17:25:21.331417",
     "exception": false,
     "start_time": "2025-03-12T17:25:12.942189",
     "status": "completed"
    },
    "tags": []
   },
   "outputs": [],
   "source": [
    "win_percentage_learned_policy = [0 for i in range(99)]\n",
    "for i in range(99):\n",
    "    wins_and_losses = [0,0]\n",
    "    for j in range(10000):\n",
    "        env = Gambler_simulation(i+1, win_prob)\n",
    "        while env.game_state and env.initial_money <100:\n",
    "            state = env.initial_money\n",
    "            bet_amount = policy[state-1]\n",
    "            env.bet(bet_amount)\n",
    "        if env.game_state:\n",
    "            wins_and_losses[0]+=1\n",
    "        else:\n",
    "            wins_and_losses[1]+=1\n",
    "    win_percentage_learned_policy[i] = wins_and_losses[0]\n",
    "    "
   ]
  },
  {
   "cell_type": "markdown",
   "id": "2e9cd424",
   "metadata": {
    "papermill": {
     "duration": 0.005309,
     "end_time": "2025-03-12T17:25:21.342540",
     "exception": false,
     "start_time": "2025-03-12T17:25:21.337231",
     "status": "completed"
    },
    "tags": []
   },
   "source": [
    "# Performance of all in\n",
    "\n",
    "Bets all the money in the first round"
   ]
  },
  {
   "cell_type": "code",
   "execution_count": 9,
   "id": "990e1fe2",
   "metadata": {
    "execution": {
     "iopub.execute_input": "2025-03-12T17:25:21.355467Z",
     "iopub.status.busy": "2025-03-12T17:25:21.355112Z",
     "iopub.status.idle": "2025-03-12T17:25:27.471820Z",
     "shell.execute_reply": "2025-03-12T17:25:27.470503Z"
    },
    "papermill": {
     "duration": 6.125812,
     "end_time": "2025-03-12T17:25:27.473818",
     "exception": false,
     "start_time": "2025-03-12T17:25:21.348006",
     "status": "completed"
    },
    "tags": []
   },
   "outputs": [],
   "source": [
    "win_percentage_all_in = [0 for i in range(99)]\n",
    "for i in range(99):\n",
    "    wins_and_losses = [0,0]\n",
    "    for j in range(10000):\n",
    "        env = Gambler_simulation(i+1, win_prob)\n",
    "        while env.game_state and env.initial_money <100:\n",
    "            state = env.initial_money\n",
    "            bet_amount = min([state, 100-state])\n",
    "            env.bet(bet_amount)\n",
    "        if env.game_state:\n",
    "            wins_and_losses[0]+=1\n",
    "        else:\n",
    "            wins_and_losses[1]+=1\n",
    "    \n",
    "    win_percentage_all_in[i] = wins_and_losses[0]"
   ]
  },
  {
   "cell_type": "markdown",
   "id": "90541cea",
   "metadata": {
    "papermill": {
     "duration": 0.005559,
     "end_time": "2025-03-12T17:25:27.486170",
     "exception": false,
     "start_time": "2025-03-12T17:25:27.480611",
     "status": "completed"
    },
    "tags": []
   },
   "source": [
    "# How often Learned Policy better? "
   ]
  },
  {
   "cell_type": "code",
   "execution_count": 10,
   "id": "5a2be3d3",
   "metadata": {
    "execution": {
     "iopub.execute_input": "2025-03-12T17:25:27.498998Z",
     "iopub.status.busy": "2025-03-12T17:25:27.498574Z",
     "iopub.status.idle": "2025-03-12T17:25:27.505009Z",
     "shell.execute_reply": "2025-03-12T17:25:27.503729Z"
    },
    "papermill": {
     "duration": 0.014827,
     "end_time": "2025-03-12T17:25:27.506842",
     "exception": false,
     "start_time": "2025-03-12T17:25:27.492015",
     "status": "completed"
    },
    "tags": []
   },
   "outputs": [
    {
     "name": "stdout",
     "output_type": "stream",
     "text": [
      "53\n"
     ]
    }
   ],
   "source": [
    "win = 0\n",
    "for i in range(99):\n",
    "    if win_percentage_all_in[i]<=win_percentage_learned_policy[i]:\n",
    "        win+=1\n",
    "print(win)"
   ]
  },
  {
   "cell_type": "markdown",
   "id": "3c165db6",
   "metadata": {
    "papermill": {
     "duration": 0.005903,
     "end_time": "2025-03-12T17:25:27.518684",
     "exception": false,
     "start_time": "2025-03-12T17:25:27.512781",
     "status": "completed"
    },
    "tags": []
   },
   "source": [
    "# Graphic Comparison of all in and learned policy"
   ]
  },
  {
   "cell_type": "code",
   "execution_count": 11,
   "id": "6ecc9742",
   "metadata": {
    "execution": {
     "iopub.execute_input": "2025-03-12T17:25:27.532070Z",
     "iopub.status.busy": "2025-03-12T17:25:27.531707Z",
     "iopub.status.idle": "2025-03-12T17:25:27.753982Z",
     "shell.execute_reply": "2025-03-12T17:25:27.752665Z"
    },
    "papermill": {
     "duration": 0.231989,
     "end_time": "2025-03-12T17:25:27.756688",
     "exception": false,
     "start_time": "2025-03-12T17:25:27.524699",
     "status": "completed"
    },
    "tags": []
   },
   "outputs": [
    {
     "data": {
      "image/png": "[encoded data removed]",
      "text/plain": [
       "<Figure size 640x480 with 1 Axes>"
      ]
     },
     "metadata": {},
     "output_type": "display_data"
    }
   ],
   "source": [
    "fig, ax = plt.subplots()\n",
    "ax.plot(win_percentage_all_in, label = 'All In')\n",
    "ax.plot(win_percentage_learned_policy, label = 'Learned_policy')\n",
    "ax.legend();"
   ]
  },
  {
   "cell_type": "markdown",
   "id": "2ec80a98",
   "metadata": {
    "papermill": {
     "duration": 0.006447,
     "end_time": "2025-03-12T17:25:27.771066",
     "exception": false,
     "start_time": "2025-03-12T17:25:27.764619",
     "status": "completed"
    },
    "tags": []
   },
   "source": [
    "# Performance of very Cautious player\n",
    "\n",
    "Only bets 1 dollar each time"
   ]
  },
  {
   "cell_type": "code",
   "execution_count": 12,
   "id": "f591da37",
   "metadata": {
    "execution": {
     "iopub.execute_input": "2025-03-12T17:25:27.785265Z",
     "iopub.status.busy": "2025-03-12T17:25:27.784857Z",
     "iopub.status.idle": "2025-03-12T17:25:27.789091Z",
     "shell.execute_reply": "2025-03-12T17:25:27.787987Z"
    },
    "papermill": {
     "duration": 0.013762,
     "end_time": "2025-03-12T17:25:27.790925",
     "exception": false,
     "start_time": "2025-03-12T17:25:27.777163",
     "status": "completed"
    },
    "tags": []
   },
   "outputs": [],
   "source": [
    "# win_percentage_cautious = [0 for i in range(99)]\n",
    "# for i in range(99):\n",
    "#     wins_and_losses = [0,0]\n",
    "#     for j in range(10000):\n",
    "#         env = Gambler_simulation(i+1, win_prob)\n",
    "#         while env.game_state and env.initial_money <100:\n",
    "#             state = env.initial_money\n",
    "#             bet_amount = 1\n",
    "#             env.bet(bet_amount)\n",
    "#         if env.game_state:\n",
    "#             wins_and_losses[0]+=1\n",
    "#         else:\n",
    "#             wins_and_losses[1]+=1\n",
    "    \n",
    "#     win_percentage_cautious[i] = wins_and_losses[0]"
   ]
  },
  {
   "cell_type": "code",
   "execution_count": 13,
   "id": "fb4d0ccc",
   "metadata": {
    "execution": {
     "iopub.execute_input": "2025-03-12T17:25:27.804956Z",
     "iopub.status.busy": "2025-03-12T17:25:27.804515Z",
     "iopub.status.idle": "2025-03-12T17:25:27.808717Z",
     "shell.execute_reply": "2025-03-12T17:25:27.807518Z"
    },
    "papermill": {
     "duration": 0.01316,
     "end_time": "2025-03-12T17:25:27.810535",
     "exception": false,
     "start_time": "2025-03-12T17:25:27.797375",
     "status": "completed"
    },
    "tags": []
   },
   "outputs": [],
   "source": [
    "# fig.ax = plt.subplots()\n",
    "# #ax.plot(win_percentage_learned_policy, label = 'Learned Policy')\n",
    "# ax.plot(win_percentage_all_in, label = 'All In')\n",
    "# #ax.plot(win_percentage_cautious, label = 'Cautious')\n"
   ]
  }
 ],
 "metadata": {
  "kaggle": {
   "accelerator": "none",
   "dataSources": [],
   "dockerImageVersionId": 30918,
   "isGpuEnabled": false,
   "isInternetEnabled": true,
   "language": "python",
   "sourceType": "notebook"
  },
  "kernelspec": {
   "display_name": "Python 3",
   "language": "python",
   "name": "python3"
  },
  "language_info": {
   "codemirror_mode": {
    "name": "ipython",
    "version": 3
   },
   "file_extension": ".py",
   "mimetype": "text/x-python",
   "name": "python",
   "nbconvert_exporter": "python",
   "pygments_lexer": "ipython3",
   "version": "3.10.12"
  },
  "papermill": {
   "default_parameters": {},
   "duration": 20.514829,
   "end_time": "2025-03-12T17:25:28.439207",
   "environment_variables": {},
   "exception": null,
   "input_path": "__notebook__.ipynb",
   "output_path": "__notebook__.ipynb",
   "parameters": {},
   "start_time": "2025-03-12T17:25:07.924378",
   "version": "2.6.0"
  }
 },
 "nbformat": 4,
 "nbformat_minor": 5
}
